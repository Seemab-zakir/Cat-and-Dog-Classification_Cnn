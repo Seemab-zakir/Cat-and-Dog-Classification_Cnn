{
  "nbformat": 4,
  "nbformat_minor": 0,
  "metadata": {
    "colab": {
      "provenance": [],
      "include_colab_link": true
    },
    "kernelspec": {
      "name": "python3",
      "display_name": "Python 3"
    },
    "language_info": {
      "name": "python"
    },
    "gpuClass": "standard"
  },
  "cells": [
    {
      "cell_type": "markdown",
      "metadata": {
        "id": "view-in-github",
        "colab_type": "text"
      },
      "source": [
        "<a href=\"https://colab.research.google.com/github/Seemab-zakir/Cat-and-Dog-Classification_Cnn/blob/main/Cats_and_Dogs_Classification.ipynb\" target=\"_parent\"><img src=\"https://colab.research.google.com/assets/colab-badge.svg\" alt=\"Open In Colab\"/></a>"
      ]
    },
    {
      "cell_type": "code",
      "source": [
        "from google.colab import files\n",
        "files.upload()"
      ],
      "metadata": {
        "colab": {
          "base_uri": "https://localhost:8080/",
          "height": 361
        },
        "id": "gufsSlOrIUBz",
        "outputId": "c69d11c0-b5a2-4e5c-d61a-5e051ac5d14e"
      },
      "execution_count": null,
      "outputs": [
        {
          "output_type": "display_data",
          "data": {
            "text/plain": [
              "<IPython.core.display.HTML object>"
            ],
            "text/html": [
              "\n",
              "     <input type=\"file\" id=\"files-1c09b1bf-ae32-4709-84e2-431b3a4f4d8b\" name=\"files[]\" multiple disabled\n",
              "        style=\"border:none\" />\n",
              "     <output id=\"result-1c09b1bf-ae32-4709-84e2-431b3a4f4d8b\">\n",
              "      Upload widget is only available when the cell has been executed in the\n",
              "      current browser session. Please rerun this cell to enable.\n",
              "      </output>\n",
              "      <script>// Copyright 2017 Google LLC\n",
              "//\n",
              "// Licensed under the Apache License, Version 2.0 (the \"License\");\n",
              "// you may not use this file except in compliance with the License.\n",
              "// You may obtain a copy of the License at\n",
              "//\n",
              "//      http://www.apache.org/licenses/LICENSE-2.0\n",
              "//\n",
              "// Unless required by applicable law or agreed to in writing, software\n",
              "// distributed under the License is distributed on an \"AS IS\" BASIS,\n",
              "// WITHOUT WARRANTIES OR CONDITIONS OF ANY KIND, either express or implied.\n",
              "// See the License for the specific language governing permissions and\n",
              "// limitations under the License.\n",
              "\n",
              "/**\n",
              " * @fileoverview Helpers for google.colab Python module.\n",
              " */\n",
              "(function(scope) {\n",
              "function span(text, styleAttributes = {}) {\n",
              "  const element = document.createElement('span');\n",
              "  element.textContent = text;\n",
              "  for (const key of Object.keys(styleAttributes)) {\n",
              "    element.style[key] = styleAttributes[key];\n",
              "  }\n",
              "  return element;\n",
              "}\n",
              "\n",
              "// Max number of bytes which will be uploaded at a time.\n",
              "const MAX_PAYLOAD_SIZE = 100 * 1024;\n",
              "\n",
              "function _uploadFiles(inputId, outputId) {\n",
              "  const steps = uploadFilesStep(inputId, outputId);\n",
              "  const outputElement = document.getElementById(outputId);\n",
              "  // Cache steps on the outputElement to make it available for the next call\n",
              "  // to uploadFilesContinue from Python.\n",
              "  outputElement.steps = steps;\n",
              "\n",
              "  return _uploadFilesContinue(outputId);\n",
              "}\n",
              "\n",
              "// This is roughly an async generator (not supported in the browser yet),\n",
              "// where there are multiple asynchronous steps and the Python side is going\n",
              "// to poll for completion of each step.\n",
              "// This uses a Promise to block the python side on completion of each step,\n",
              "// then passes the result of the previous step as the input to the next step.\n",
              "function _uploadFilesContinue(outputId) {\n",
              "  const outputElement = document.getElementById(outputId);\n",
              "  const steps = outputElement.steps;\n",
              "\n",
              "  const next = steps.next(outputElement.lastPromiseValue);\n",
              "  return Promise.resolve(next.value.promise).then((value) => {\n",
              "    // Cache the last promise value to make it available to the next\n",
              "    // step of the generator.\n",
              "    outputElement.lastPromiseValue = value;\n",
              "    return next.value.response;\n",
              "  });\n",
              "}\n",
              "\n",
              "/**\n",
              " * Generator function which is called between each async step of the upload\n",
              " * process.\n",
              " * @param {string} inputId Element ID of the input file picker element.\n",
              " * @param {string} outputId Element ID of the output display.\n",
              " * @return {!Iterable<!Object>} Iterable of next steps.\n",
              " */\n",
              "function* uploadFilesStep(inputId, outputId) {\n",
              "  const inputElement = document.getElementById(inputId);\n",
              "  inputElement.disabled = false;\n",
              "\n",
              "  const outputElement = document.getElementById(outputId);\n",
              "  outputElement.innerHTML = '';\n",
              "\n",
              "  const pickedPromise = new Promise((resolve) => {\n",
              "    inputElement.addEventListener('change', (e) => {\n",
              "      resolve(e.target.files);\n",
              "    });\n",
              "  });\n",
              "\n",
              "  const cancel = document.createElement('button');\n",
              "  inputElement.parentElement.appendChild(cancel);\n",
              "  cancel.textContent = 'Cancel upload';\n",
              "  const cancelPromise = new Promise((resolve) => {\n",
              "    cancel.onclick = () => {\n",
              "      resolve(null);\n",
              "    };\n",
              "  });\n",
              "\n",
              "  // Wait for the user to pick the files.\n",
              "  const files = yield {\n",
              "    promise: Promise.race([pickedPromise, cancelPromise]),\n",
              "    response: {\n",
              "      action: 'starting',\n",
              "    }\n",
              "  };\n",
              "\n",
              "  cancel.remove();\n",
              "\n",
              "  // Disable the input element since further picks are not allowed.\n",
              "  inputElement.disabled = true;\n",
              "\n",
              "  if (!files) {\n",
              "    return {\n",
              "      response: {\n",
              "        action: 'complete',\n",
              "      }\n",
              "    };\n",
              "  }\n",
              "\n",
              "  for (const file of files) {\n",
              "    const li = document.createElement('li');\n",
              "    li.append(span(file.name, {fontWeight: 'bold'}));\n",
              "    li.append(span(\n",
              "        `(${file.type || 'n/a'}) - ${file.size} bytes, ` +\n",
              "        `last modified: ${\n",
              "            file.lastModifiedDate ? file.lastModifiedDate.toLocaleDateString() :\n",
              "                                    'n/a'} - `));\n",
              "    const percent = span('0% done');\n",
              "    li.appendChild(percent);\n",
              "\n",
              "    outputElement.appendChild(li);\n",
              "\n",
              "    const fileDataPromise = new Promise((resolve) => {\n",
              "      const reader = new FileReader();\n",
              "      reader.onload = (e) => {\n",
              "        resolve(e.target.result);\n",
              "      };\n",
              "      reader.readAsArrayBuffer(file);\n",
              "    });\n",
              "    // Wait for the data to be ready.\n",
              "    let fileData = yield {\n",
              "      promise: fileDataPromise,\n",
              "      response: {\n",
              "        action: 'continue',\n",
              "      }\n",
              "    };\n",
              "\n",
              "    // Use a chunked sending to avoid message size limits. See b/62115660.\n",
              "    let position = 0;\n",
              "    do {\n",
              "      const length = Math.min(fileData.byteLength - position, MAX_PAYLOAD_SIZE);\n",
              "      const chunk = new Uint8Array(fileData, position, length);\n",
              "      position += length;\n",
              "\n",
              "      const base64 = btoa(String.fromCharCode.apply(null, chunk));\n",
              "      yield {\n",
              "        response: {\n",
              "          action: 'append',\n",
              "          file: file.name,\n",
              "          data: base64,\n",
              "        },\n",
              "      };\n",
              "\n",
              "      let percentDone = fileData.byteLength === 0 ?\n",
              "          100 :\n",
              "          Math.round((position / fileData.byteLength) * 100);\n",
              "      percent.textContent = `${percentDone}% done`;\n",
              "\n",
              "    } while (position < fileData.byteLength);\n",
              "  }\n",
              "\n",
              "  // All done.\n",
              "  yield {\n",
              "    response: {\n",
              "      action: 'complete',\n",
              "    }\n",
              "  };\n",
              "}\n",
              "\n",
              "scope.google = scope.google || {};\n",
              "scope.google.colab = scope.google.colab || {};\n",
              "scope.google.colab._files = {\n",
              "  _uploadFiles,\n",
              "  _uploadFilesContinue,\n",
              "};\n",
              "})(self);\n",
              "</script> "
            ]
          },
          "metadata": {}
        },
        {
          "output_type": "error",
          "ename": "KeyboardInterrupt",
          "evalue": "ignored",
          "traceback": [
            "\u001b[0;31m---------------------------------------------------------------------------\u001b[0m",
            "\u001b[0;31mKeyboardInterrupt\u001b[0m                         Traceback (most recent call last)",
            "\u001b[0;32m<ipython-input-35-5c2e8a8d365b>\u001b[0m in \u001b[0;36m<module>\u001b[0;34m\u001b[0m\n\u001b[1;32m      1\u001b[0m \u001b[0;32mfrom\u001b[0m \u001b[0mgoogle\u001b[0m\u001b[0;34m.\u001b[0m\u001b[0mcolab\u001b[0m \u001b[0;32mimport\u001b[0m \u001b[0mfiles\u001b[0m\u001b[0;34m\u001b[0m\u001b[0;34m\u001b[0m\u001b[0m\n\u001b[0;32m----> 2\u001b[0;31m \u001b[0mfiles\u001b[0m\u001b[0;34m.\u001b[0m\u001b[0mupload\u001b[0m\u001b[0;34m(\u001b[0m\u001b[0;34m)\u001b[0m\u001b[0;34m\u001b[0m\u001b[0;34m\u001b[0m\u001b[0m\n\u001b[0m",
            "\u001b[0;32m/usr/local/lib/python3.8/dist-packages/google/colab/files.py\u001b[0m in \u001b[0;36mupload\u001b[0;34m()\u001b[0m\n\u001b[1;32m     65\u001b[0m   \"\"\"\n\u001b[1;32m     66\u001b[0m \u001b[0;34m\u001b[0m\u001b[0m\n\u001b[0;32m---> 67\u001b[0;31m   \u001b[0muploaded_files\u001b[0m \u001b[0;34m=\u001b[0m \u001b[0m_upload_files\u001b[0m\u001b[0;34m(\u001b[0m\u001b[0mmultiple\u001b[0m\u001b[0;34m=\u001b[0m\u001b[0;32mTrue\u001b[0m\u001b[0;34m)\u001b[0m\u001b[0;34m\u001b[0m\u001b[0;34m\u001b[0m\u001b[0m\n\u001b[0m\u001b[1;32m     68\u001b[0m   \u001b[0;31m# Mapping from original filename to filename as saved locally.\u001b[0m\u001b[0;34m\u001b[0m\u001b[0;34m\u001b[0m\u001b[0;34m\u001b[0m\u001b[0m\n\u001b[1;32m     69\u001b[0m   \u001b[0mlocal_filenames\u001b[0m \u001b[0;34m=\u001b[0m \u001b[0mdict\u001b[0m\u001b[0;34m(\u001b[0m\u001b[0;34m)\u001b[0m\u001b[0;34m\u001b[0m\u001b[0;34m\u001b[0m\u001b[0m\n",
            "\u001b[0;32m/usr/local/lib/python3.8/dist-packages/google/colab/files.py\u001b[0m in \u001b[0;36m_upload_files\u001b[0;34m(multiple)\u001b[0m\n\u001b[1;32m    142\u001b[0m \u001b[0;34m\u001b[0m\u001b[0m\n\u001b[1;32m    143\u001b[0m   \u001b[0;31m# First result is always an indication that the file picker has completed.\u001b[0m\u001b[0;34m\u001b[0m\u001b[0;34m\u001b[0m\u001b[0;34m\u001b[0m\u001b[0m\n\u001b[0;32m--> 144\u001b[0;31m   result = _output.eval_js(\n\u001b[0m\u001b[1;32m    145\u001b[0m       'google.colab._files._uploadFiles(\"{input_id}\", \"{output_id}\")'.format(\n\u001b[1;32m    146\u001b[0m           input_id=input_id, output_id=output_id))\n",
            "\u001b[0;32m/usr/local/lib/python3.8/dist-packages/google/colab/output/_js.py\u001b[0m in \u001b[0;36meval_js\u001b[0;34m(script, ignore_result, timeout_sec)\u001b[0m\n\u001b[1;32m     38\u001b[0m   \u001b[0;32mif\u001b[0m \u001b[0mignore_result\u001b[0m\u001b[0;34m:\u001b[0m\u001b[0;34m\u001b[0m\u001b[0;34m\u001b[0m\u001b[0m\n\u001b[1;32m     39\u001b[0m     \u001b[0;32mreturn\u001b[0m\u001b[0;34m\u001b[0m\u001b[0;34m\u001b[0m\u001b[0m\n\u001b[0;32m---> 40\u001b[0;31m   \u001b[0;32mreturn\u001b[0m \u001b[0m_message\u001b[0m\u001b[0;34m.\u001b[0m\u001b[0mread_reply_from_input\u001b[0m\u001b[0;34m(\u001b[0m\u001b[0mrequest_id\u001b[0m\u001b[0;34m,\u001b[0m \u001b[0mtimeout_sec\u001b[0m\u001b[0;34m)\u001b[0m\u001b[0;34m\u001b[0m\u001b[0;34m\u001b[0m\u001b[0m\n\u001b[0m\u001b[1;32m     41\u001b[0m \u001b[0;34m\u001b[0m\u001b[0m\n\u001b[1;32m     42\u001b[0m \u001b[0;34m\u001b[0m\u001b[0m\n",
            "\u001b[0;32m/usr/local/lib/python3.8/dist-packages/google/colab/_message.py\u001b[0m in \u001b[0;36mread_reply_from_input\u001b[0;34m(message_id, timeout_sec)\u001b[0m\n\u001b[1;32m     95\u001b[0m     \u001b[0mreply\u001b[0m \u001b[0;34m=\u001b[0m \u001b[0m_read_next_input_message\u001b[0m\u001b[0;34m(\u001b[0m\u001b[0;34m)\u001b[0m\u001b[0;34m\u001b[0m\u001b[0;34m\u001b[0m\u001b[0m\n\u001b[1;32m     96\u001b[0m     \u001b[0;32mif\u001b[0m \u001b[0mreply\u001b[0m \u001b[0;34m==\u001b[0m \u001b[0m_NOT_READY\u001b[0m \u001b[0;32mor\u001b[0m \u001b[0;32mnot\u001b[0m \u001b[0misinstance\u001b[0m\u001b[0;34m(\u001b[0m\u001b[0mreply\u001b[0m\u001b[0;34m,\u001b[0m \u001b[0mdict\u001b[0m\u001b[0;34m)\u001b[0m\u001b[0;34m:\u001b[0m\u001b[0;34m\u001b[0m\u001b[0;34m\u001b[0m\u001b[0m\n\u001b[0;32m---> 97\u001b[0;31m       \u001b[0mtime\u001b[0m\u001b[0;34m.\u001b[0m\u001b[0msleep\u001b[0m\u001b[0;34m(\u001b[0m\u001b[0;36m0.025\u001b[0m\u001b[0;34m)\u001b[0m\u001b[0;34m\u001b[0m\u001b[0;34m\u001b[0m\u001b[0m\n\u001b[0m\u001b[1;32m     98\u001b[0m       \u001b[0;32mcontinue\u001b[0m\u001b[0;34m\u001b[0m\u001b[0;34m\u001b[0m\u001b[0m\n\u001b[1;32m     99\u001b[0m     if (reply.get('type') == 'colab_reply' and\n",
            "\u001b[0;31mKeyboardInterrupt\u001b[0m: "
          ]
        }
      ]
    },
    {
      "cell_type": "code",
      "source": [
        "!ls -lha kaggle.json\n",
        "!pip install -q kaggle # installing the kaggle package\n",
        "!mkdir -p ~/.kaggle # creating .kaggle folder where the key should be placed\n",
        "!cp kaggle.json ~/.kaggle/ # move the key to the folder\n",
        "!pwd # checking the present working directory"
      ],
      "metadata": {
        "id": "ZjZqPiyhImlO"
      },
      "execution_count": null,
      "outputs": []
    },
    {
      "cell_type": "code",
      "source": [
        "!chmod 600 ~/.kaggle/kaggle.json\n",
        "!kaggle datasets list"
      ],
      "metadata": {
        "id": "NGrHC8tgI5P8"
      },
      "execution_count": null,
      "outputs": []
    },
    {
      "cell_type": "code",
      "source": [
        "!kaggle competitions download -c dogs-vs-cats"
      ],
      "metadata": {
        "id": "eLy3y8SGLENp"
      },
      "execution_count": null,
      "outputs": []
    },
    {
      "cell_type": "code",
      "source": [
        "!unzip -q /content/dogs-vs-cats.zip"
      ],
      "metadata": {
        "id": "c7zzeBnccyQd"
      },
      "execution_count": null,
      "outputs": []
    },
    {
      "cell_type": "code",
      "source": [
        "!unzip -q /content/train.zip"
      ],
      "metadata": {
        "id": "TGm4QjQKLfeT"
      },
      "execution_count": null,
      "outputs": []
    },
    {
      "cell_type": "code",
      "source": [
        "!unzip -q /content/test1.zip"
      ],
      "metadata": {
        "id": "OAhNwq5xL9zz"
      },
      "execution_count": null,
      "outputs": []
    },
    {
      "cell_type": "code",
      "source": [
        "#train\n",
        "#-cat\n",
        "#-dog\n",
        "#test\n",
        "#-cat\n",
        "#-dog"
      ],
      "metadata": {
        "id": "jLHXIEzcwbWu"
      },
      "execution_count": null,
      "outputs": []
    },
    {
      "cell_type": "code",
      "source": [
        "!mkdir trains\n",
        "!mkdir tests\n"
      ],
      "metadata": {
        "id": "APSfAkS1wbbt"
      },
      "execution_count": null,
      "outputs": []
    },
    {
      "cell_type": "code",
      "source": [
        "!mkdir trains/cats\n",
        "!mkdir trains/dogs"
      ],
      "metadata": {
        "id": "OtFlTG41wbey"
      },
      "execution_count": null,
      "outputs": []
    },
    {
      "cell_type": "code",
      "source": [
        "import os\n",
        "import shutil\n",
        "filenames = os.listdir('train')\n",
        "len(filenames)"
      ],
      "metadata": {
        "id": "jxc7nkutw_EM"
      },
      "execution_count": null,
      "outputs": []
    },
    {
      "cell_type": "code",
      "source": [
        "\n",
        "for file in filenames:\n",
        "  org_file=os.path.join('train',file)\n",
        "  if 'cat' in org_file.lower():\n",
        "    shutil.move(org_file, 'trains/cats') \n",
        "  else:\n",
        "    shutil.move(org_file, 'trains/dogs') \n"
      ],
      "metadata": {
        "id": "XorhYfg5xVsB"
      },
      "execution_count": null,
      "outputs": []
    },
    {
      "cell_type": "code",
      "source": [
        "#import libraries\n",
        "import keras\n",
        "import numpy as np\n",
        "from keras.models import Sequential,Model\n",
        "from keras.layers import Conv2D,MaxPooling2D,GlobalAveragePooling2D\n",
        "from keras.layers import Activation, Dense, Flatten, Dropout,BatchNormalization\n",
        "from keras.preprocessing.image import ImageDataGenerator\n",
        "#from keras.callbacks import ModelCheckpoint\n",
        "#from keras import backend as K\n",
        "from keras.optimizers import Adam,RMSprop\n",
        "import tensorflow as tf\n",
        "#from tensorflow.keras.layers import GlobalAveragePooling2D"
      ],
      "metadata": {
        "id": "p3Dk8AtqPxON"
      },
      "execution_count": null,
      "outputs": []
    },
    {
      "cell_type": "code",
      "source": [
        "image_shape = (224,224,3)"
      ],
      "metadata": {
        "id": "fbLOw5ReQJE_"
      },
      "execution_count": null,
      "outputs": []
    },
    {
      "cell_type": "code",
      "source": [
        "from keras_preprocessing.image import ImageDataGenerator\n",
        "\n",
        "datagen= ImageDataGenerator(\n",
        "    horizontal_flip=True,\n",
        "    vertical_flip=True,\n",
        "    rotation_range=90,\n",
        "    width_shift_range=0.1,\n",
        "    height_shift_range=0.1,\n",
        "    zoom_range=.1,\n",
        "    rescale=1/255,\n",
        "    fill_mode='nearest',\n",
        "    shear_range=0.1,\n",
        "    brightness_range=[0.8, 1.2],\n",
        "    validation_split=0.3)"
      ],
      "metadata": {
        "id": "Qm8RfhDfQPuP"
      },
      "execution_count": null,
      "outputs": []
    },
    {
      "cell_type": "code",
      "source": [
        "train_generator = datagen.flow_from_directory('/content/trains',\n",
        "    target_size=image_shape[0:2],\n",
        "    batch_size=100,\n",
        "    class_mode='binary',\n",
        "    subset='training',\n",
        "    shuffle=True)"
      ],
      "metadata": {
        "colab": {
          "base_uri": "https://localhost:8080/"
        },
        "id": "8cCJxyewQXRJ",
        "outputId": "d30add9c-eafb-4751-deaa-4fe67d229cb3"
      },
      "execution_count": null,
      "outputs": [
        {
          "output_type": "stream",
          "name": "stdout",
          "text": [
            "Found 17500 images belonging to 2 classes.\n"
          ]
        }
      ]
    },
    {
      "cell_type": "code",
      "source": [
        "val_generator = datagen.flow_from_directory('/content/trains',\n",
        "    target_size=image_shape[0:2],\n",
        "    batch_size=50,\n",
        "    class_mode='binary',\n",
        "    subset='validation')"
      ],
      "metadata": {
        "id": "jMOP2fzUQp2h",
        "colab": {
          "base_uri": "https://localhost:8080/"
        },
        "outputId": "c8d0f6ef-6dde-4035-ba7a-e7c1c28a4f9d"
      },
      "execution_count": null,
      "outputs": [
        {
          "output_type": "stream",
          "name": "stdout",
          "text": [
            "Found 7500 images belonging to 2 classes.\n"
          ]
        }
      ]
    },
    {
      "cell_type": "code",
      "source": [
        "# !mv test1 tests/"
      ],
      "metadata": {
        "id": "sIV9_84i0uh_"
      },
      "execution_count": null,
      "outputs": []
    },
    {
      "cell_type": "code",
      "source": [
        "test_generator = datagen.flow_from_directory('/content/tests',\n",
        "    target_size=image_shape[0:2],\n",
        "    batch_size=1,\n",
        "    class_mode=None,\n",
        "    )"
      ],
      "metadata": {
        "colab": {
          "base_uri": "https://localhost:8080/"
        },
        "id": "SzRaYnnozim7",
        "outputId": "ca2f3b26-2541-494d-c323-d7ed48201db4"
      },
      "execution_count": null,
      "outputs": [
        {
          "output_type": "stream",
          "name": "stdout",
          "text": [
            "Found 12500 images belonging to 1 classes.\n"
          ]
        }
      ]
    },
    {
      "cell_type": "code",
      "source": [
        "# test_generator.filenames"
      ],
      "metadata": {
        "id": "ZP38Jet20Vxx"
      },
      "execution_count": null,
      "outputs": []
    },
    {
      "cell_type": "code",
      "source": [
        "for batch in train_generator:\n",
        "     print(batch)\n",
        "     break;"
      ],
      "metadata": {
        "colab": {
          "base_uri": "https://localhost:8080/"
        },
        "id": "5R8zuAZ79_Ns",
        "outputId": "c4668f08-c941-47a2-f7b0-578ec88d3d23"
      },
      "execution_count": null,
      "outputs": [
        {
          "output_type": "stream",
          "name": "stdout",
          "text": [
            "(array([[[[0.90196085, 0.90196085, 0.90196085],\n",
            "         [0.90196085, 0.90196085, 0.90196085],\n",
            "         [0.90196085, 0.90196085, 0.90196085],\n",
            "         ...,\n",
            "         [0.90196085, 0.87843144, 0.8862746 ],\n",
            "         [0.90196085, 0.882353  , 0.8862746 ],\n",
            "         [0.90196085, 0.882353  , 0.8862746 ]],\n",
            "\n",
            "        [[0.90196085, 0.90196085, 0.90196085],\n",
            "         [0.90196085, 0.90196085, 0.90196085],\n",
            "         [0.90196085, 0.90196085, 0.90196085],\n",
            "         ...,\n",
            "         [0.8980393 , 0.8745099 , 0.8862746 ],\n",
            "         [0.8941177 , 0.8705883 , 0.89019614],\n",
            "         [0.89019614, 0.86274517, 0.89019614]],\n",
            "\n",
            "        [[0.90196085, 0.90196085, 0.90196085],\n",
            "         [0.90196085, 0.90196085, 0.90196085],\n",
            "         [0.90196085, 0.90196085, 0.90196085],\n",
            "         ...,\n",
            "         [0.882353  , 0.85098046, 0.8862746 ],\n",
            "         [0.8745099 , 0.8470589 , 0.87843144],\n",
            "         [0.86666673, 0.83921576, 0.8705883 ]],\n",
            "\n",
            "        ...,\n",
            "\n",
            "        [[0.80392164, 0.7960785 , 0.83921576],\n",
            "         [0.80392164, 0.7960785 , 0.83921576],\n",
            "         [0.80392164, 0.7960785 , 0.83921576],\n",
            "         ...,\n",
            "         [0.82745105, 0.82745105, 0.8352942 ],\n",
            "         [0.82745105, 0.82745105, 0.8352942 ],\n",
            "         [0.8313726 , 0.8313726 , 0.8431373 ]],\n",
            "\n",
            "        [[0.80392164, 0.79215693, 0.8352942 ],\n",
            "         [0.8000001 , 0.79215693, 0.8352942 ],\n",
            "         [0.7960785 , 0.78823537, 0.8313726 ],\n",
            "         ...,\n",
            "         [0.82745105, 0.82745105, 0.8352942 ],\n",
            "         [0.82745105, 0.82745105, 0.8352942 ],\n",
            "         [0.8313726 , 0.8313726 , 0.83921576]],\n",
            "\n",
            "        [[0.7960785 , 0.78823537, 0.8313726 ],\n",
            "         [0.7960785 , 0.78823537, 0.8313726 ],\n",
            "         [0.8000001 , 0.79215693, 0.8352942 ],\n",
            "         ...,\n",
            "         [0.82745105, 0.82745105, 0.8352942 ],\n",
            "         [0.82745105, 0.82745105, 0.8352942 ],\n",
            "         [0.8313726 , 0.8313726 , 0.83921576]]],\n",
            "\n",
            "\n",
            "       [[[0.28235295, 0.20784315, 0.18039216],\n",
            "         [0.29411766, 0.21960786, 0.19215688],\n",
            "         [0.29803923, 0.22352943, 0.19607845],\n",
            "         ...,\n",
            "         [0.48627454, 0.42352945, 0.36078432],\n",
            "         [0.48627454, 0.42352945, 0.36078432],\n",
            "         [0.49803925, 0.427451  , 0.36862746]],\n",
            "\n",
            "        [[0.28235295, 0.20784315, 0.18039216],\n",
            "         [0.2901961 , 0.21568629, 0.18823531],\n",
            "         [0.29803923, 0.22352943, 0.19607845],\n",
            "         ...,\n",
            "         [0.5176471 , 0.43529415, 0.3803922 ],\n",
            "         [0.5254902 , 0.43921572, 0.38431376],\n",
            "         [0.52156866, 0.427451  , 0.37647063]],\n",
            "\n",
            "        [[0.28235295, 0.20784315, 0.18039216],\n",
            "         [0.28627452, 0.21176472, 0.18431373],\n",
            "         [0.29803923, 0.22352943, 0.19607845],\n",
            "         ...,\n",
            "         [0.50980395, 0.4039216 , 0.35686275],\n",
            "         [0.5019608 , 0.3921569 , 0.34509805],\n",
            "         [0.5019608 , 0.38823533, 0.34509805]],\n",
            "\n",
            "        ...,\n",
            "\n",
            "        [[0.86666673, 0.627451  , 0.5921569 ],\n",
            "         [0.86666673, 0.627451  , 0.5921569 ],\n",
            "         [0.86666673, 0.627451  , 0.5921569 ],\n",
            "         ...,\n",
            "         [0.27450982, 0.19607845, 0.16862746],\n",
            "         [0.227451  , 0.15686275, 0.12941177],\n",
            "         [0.20784315, 0.12941177, 0.08235294]],\n",
            "\n",
            "        [[0.86666673, 0.627451  , 0.5921569 ],\n",
            "         [0.86274517, 0.62352943, 0.5882353 ],\n",
            "         [0.86274517, 0.6156863 , 0.5803922 ],\n",
            "         ...,\n",
            "         [0.27450982, 0.19607845, 0.16862746],\n",
            "         [0.2392157 , 0.16862746, 0.14117648],\n",
            "         [0.21176472, 0.13725491, 0.09411766]],\n",
            "\n",
            "        [[0.8588236 , 0.60784316, 0.57254905],\n",
            "         [0.8588236 , 0.6039216 , 0.5686275 ],\n",
            "         [0.86666673, 0.60784316, 0.57254905],\n",
            "         ...,\n",
            "         [0.27450982, 0.19607845, 0.16862746],\n",
            "         [0.25490198, 0.18039216, 0.15294118],\n",
            "         [0.21568629, 0.14509805, 0.10980393]]],\n",
            "\n",
            "\n",
            "       [[[0.1764706 , 0.19215688, 0.22352943],\n",
            "         [0.1764706 , 0.19215688, 0.22352943],\n",
            "         [0.1764706 , 0.19215688, 0.22352943],\n",
            "         ...,\n",
            "         [0.67058825, 0.5294118 , 0.6117647 ],\n",
            "         [0.654902  , 0.50980395, 0.5921569 ],\n",
            "         [0.654902  , 0.50980395, 0.5921569 ]],\n",
            "\n",
            "        [[0.1764706 , 0.19215688, 0.22352943],\n",
            "         [0.1764706 , 0.19215688, 0.22352943],\n",
            "         [0.1764706 , 0.19215688, 0.22352943],\n",
            "         ...,\n",
            "         [0.654902  , 0.5137255 , 0.59607846],\n",
            "         [0.654902  , 0.50980395, 0.5921569 ],\n",
            "         [0.64705884, 0.5058824 , 0.5882353 ]],\n",
            "\n",
            "        [[0.1764706 , 0.19215688, 0.22352943],\n",
            "         [0.1764706 , 0.19215688, 0.22352943],\n",
            "         [0.1764706 , 0.19215688, 0.22352943],\n",
            "         ...,\n",
            "         [0.654902  , 0.50980395, 0.5921569 ],\n",
            "         [0.6509804 , 0.5058824 , 0.5882353 ],\n",
            "         [0.6392157 , 0.49803925, 0.5803922 ]],\n",
            "\n",
            "        ...,\n",
            "\n",
            "        [[0.41176474, 0.41960788, 0.47450984],\n",
            "         [0.43921572, 0.44705886, 0.5019608 ],\n",
            "         [0.45882356, 0.4666667 , 0.52156866],\n",
            "         ...,\n",
            "         [0.1254902 , 0.16862746, 0.19215688],\n",
            "         [0.12156864, 0.17254902, 0.19215688],\n",
            "         [0.1254902 , 0.1764706 , 0.19215688]],\n",
            "\n",
            "        [[0.427451  , 0.43921572, 0.49411768],\n",
            "         [0.45882356, 0.47058827, 0.5254902 ],\n",
            "         [0.454902  , 0.4666667 , 0.52156866],\n",
            "         ...,\n",
            "         [0.12941177, 0.16470589, 0.19215688],\n",
            "         [0.1254902 , 0.16862746, 0.19215688],\n",
            "         [0.1254902 , 0.17254902, 0.19215688]],\n",
            "\n",
            "        [[0.45882356, 0.47058827, 0.5254902 ],\n",
            "         [0.45882356, 0.4666667 , 0.52156866],\n",
            "         [0.46274513, 0.47058827, 0.5254902 ],\n",
            "         ...,\n",
            "         [0.12941177, 0.16078432, 0.18823531],\n",
            "         [0.12941177, 0.16470589, 0.19215688],\n",
            "         [0.12941177, 0.16862746, 0.19215688]]],\n",
            "\n",
            "\n",
            "       ...,\n",
            "\n",
            "\n",
            "       [[[0.90196085, 0.90196085, 0.90196085],\n",
            "         [0.90196085, 0.90196085, 0.90196085],\n",
            "         [0.90196085, 0.90196085, 0.90196085],\n",
            "         ...,\n",
            "         [0.27058825, 0.29411766, 0.29411766],\n",
            "         [0.27058825, 0.29411766, 0.29411766],\n",
            "         [0.27058825, 0.2901961 , 0.2901961 ]],\n",
            "\n",
            "        [[0.9058824 , 0.9058824 , 0.9058824 ],\n",
            "         [0.90196085, 0.90196085, 0.90196085],\n",
            "         [0.90196085, 0.90196085, 0.90196085],\n",
            "         ...,\n",
            "         [0.27058825, 0.2901961 , 0.2901961 ],\n",
            "         [0.27058825, 0.28627452, 0.28627452],\n",
            "         [0.27058825, 0.28627452, 0.28235295]],\n",
            "\n",
            "        [[0.9058824 , 0.9058824 , 0.9058824 ],\n",
            "         [0.90196085, 0.90196085, 0.90196085],\n",
            "         [0.90196085, 0.90196085, 0.90196085],\n",
            "         ...,\n",
            "         [0.27058825, 0.28627452, 0.28235295],\n",
            "         [0.27058825, 0.28235295, 0.2784314 ],\n",
            "         [0.27058825, 0.28235295, 0.2784314 ]],\n",
            "\n",
            "        ...,\n",
            "\n",
            "        [[0.35686275, 0.32156864, 0.28627452],\n",
            "         [0.3529412 , 0.31764707, 0.28235295],\n",
            "         [0.34901962, 0.3137255 , 0.2784314 ],\n",
            "         ...,\n",
            "         [0.03137255, 0.03529412, 0.02745098],\n",
            "         [0.03137255, 0.03529412, 0.02745098],\n",
            "         [0.05882353, 0.06666667, 0.05490196]],\n",
            "\n",
            "        [[0.34901962, 0.3137255 , 0.2784314 ],\n",
            "         [0.34901962, 0.30980393, 0.27450982],\n",
            "         [0.34509805, 0.30980393, 0.27058825],\n",
            "         ...,\n",
            "         [0.03529412, 0.03921569, 0.03137255],\n",
            "         [0.02745098, 0.03529412, 0.02352941],\n",
            "         [0.04705883, 0.05490196, 0.04313726]],\n",
            "\n",
            "        [[0.34509805, 0.30980393, 0.27058825],\n",
            "         [0.34901962, 0.3137255 , 0.2784314 ],\n",
            "         [0.36078432, 0.3254902 , 0.2901961 ],\n",
            "         ...,\n",
            "         [0.04705883, 0.05490196, 0.04313726],\n",
            "         [0.03137255, 0.03529412, 0.02745098],\n",
            "         [0.03529412, 0.03921569, 0.03137255]]],\n",
            "\n",
            "\n",
            "       [[[0.53333336, 0.5882353 , 0.35686275],\n",
            "         [0.53333336, 0.57254905, 0.34117648],\n",
            "         [0.54901963, 0.57254905, 0.3254902 ],\n",
            "         ...,\n",
            "         [0.62352943, 0.5764706 , 0.5254902 ],\n",
            "         [0.60784316, 0.5921569 , 0.54901963],\n",
            "         [0.59607846, 0.60784316, 0.5647059 ]],\n",
            "\n",
            "        [[0.5294118 , 0.58431375, 0.35686275],\n",
            "         [0.53333336, 0.5803922 , 0.34901962],\n",
            "         [0.5411765 , 0.57254905, 0.33333334],\n",
            "         ...,\n",
            "         [0.5882353 , 0.62352943, 0.5686275 ],\n",
            "         [0.5803922 , 0.6392157 , 0.57254905],\n",
            "         [0.52156866, 0.6039216 , 0.52156866]],\n",
            "\n",
            "        [[0.5254902 , 0.5803922 , 0.35686275],\n",
            "         [0.53333336, 0.58431375, 0.3529412 ],\n",
            "         [0.53333336, 0.57254905, 0.34117648],\n",
            "         ...,\n",
            "         [0.43137258, 0.5254902 , 0.427451  ],\n",
            "         [0.34117648, 0.44705886, 0.33333334],\n",
            "         [0.35686275, 0.427451  , 0.30980393]],\n",
            "\n",
            "        ...,\n",
            "\n",
            "        [[0.63529414, 0.61960787, 0.5882353 ],\n",
            "         [0.6392157 , 0.62352943, 0.5921569 ],\n",
            "         [0.6392157 , 0.62352943, 0.5921569 ],\n",
            "         ...,\n",
            "         [0.8235295 , 0.69411767, 0.6862745 ],\n",
            "         [0.8352942 , 0.7176471 , 0.7058824 ],\n",
            "         [0.8196079 , 0.7019608 , 0.6901961 ]],\n",
            "\n",
            "        [[0.6431373 , 0.627451  , 0.59607846],\n",
            "         [0.64705884, 0.627451  , 0.6039216 ],\n",
            "         [0.6509804 , 0.6313726 , 0.6117647 ],\n",
            "         ...,\n",
            "         [0.8235295 , 0.6862745 , 0.6784314 ],\n",
            "         [0.8313726 , 0.70980394, 0.69803923],\n",
            "         [0.82745105, 0.70980394, 0.69803923]],\n",
            "\n",
            "        [[0.6509804 , 0.6313726 , 0.6156863 ],\n",
            "         [0.654902  , 0.63529414, 0.61960787],\n",
            "         [0.654902  , 0.63529414, 0.61960787],\n",
            "         ...,\n",
            "         [0.82745105, 0.69411767, 0.6862745 ],\n",
            "         [0.82745105, 0.69803923, 0.6901961 ],\n",
            "         [0.8313726 , 0.7137255 , 0.7019608 ]]],\n",
            "\n",
            "\n",
            "       [[[0.4901961 , 0.4156863 , 0.20784315],\n",
            "         [0.4431373 , 0.3647059 , 0.15686275],\n",
            "         [0.5019608 , 0.42352945, 0.22352943],\n",
            "         ...,\n",
            "         [0.6431373 , 0.21568629, 0.10980393],\n",
            "         [0.59607846, 0.26666668, 0.13333334],\n",
            "         [0.60784316, 0.3803922 , 0.21568629]],\n",
            "\n",
            "        [[0.53333336, 0.45882356, 0.25490198],\n",
            "         [0.4666667 , 0.38823533, 0.18039216],\n",
            "         [0.47058827, 0.3921569 , 0.18823531],\n",
            "         ...,\n",
            "         [0.5921569 , 0.34117648, 0.18039216],\n",
            "         [0.67058825, 0.5058824 , 0.32156864],\n",
            "         [0.69411767, 0.6039216 , 0.40000004]],\n",
            "\n",
            "        [[0.58431375, 0.5058824 , 0.3019608 ],\n",
            "         [0.5019608 , 0.42352945, 0.21568629],\n",
            "         [0.43921572, 0.36078432, 0.15294118],\n",
            "         ...,\n",
            "         [0.7137255 , 0.6117647 , 0.4156863 ],\n",
            "         [0.6392157 , 0.5764706 , 0.36078432],\n",
            "         [0.5686275 , 0.5411765 , 0.3137255 ]],\n",
            "\n",
            "        ...,\n",
            "\n",
            "        [[0.45882356, 0.3529412 , 0.23529413],\n",
            "         [0.4666667 , 0.36078432, 0.227451  ],\n",
            "         [0.47450984, 0.3647059 , 0.22352943],\n",
            "         ...,\n",
            "         [0.6       , 0.5176471 , 0.3372549 ],\n",
            "         [0.6117647 , 0.5294118 , 0.34901962],\n",
            "         [0.60784316, 0.5254902 , 0.34509805]],\n",
            "\n",
            "        [[0.47450984, 0.3647059 , 0.22352943],\n",
            "         [0.47450984, 0.3529412 , 0.23137257],\n",
            "         [0.47450984, 0.34509805, 0.2392157 ],\n",
            "         ...,\n",
            "         [0.5921569 , 0.5294118 , 0.33333334],\n",
            "         [0.60784316, 0.5254902 , 0.34509805],\n",
            "         [0.6117647 , 0.5294118 , 0.34901962]],\n",
            "\n",
            "        [[0.47450984, 0.34509805, 0.23529413],\n",
            "         [0.48235297, 0.34509805, 0.2509804 ],\n",
            "         [0.4901961 , 0.34901962, 0.26666668],\n",
            "         ...,\n",
            "         [0.5764706 , 0.5647059 , 0.33333334],\n",
            "         [0.6       , 0.5176471 , 0.3372549 ],\n",
            "         [0.6117647 , 0.5294118 , 0.34901962]]]], dtype=float32), array([1., 1., 1., 0., 0., 1., 1., 1., 0., 1., 0., 0., 1., 0., 1., 0., 1.,\n",
            "       0., 0., 1., 0., 0., 1., 0., 0., 0., 0., 0., 1., 0., 0., 1., 1., 1.,\n",
            "       1., 1., 0., 0., 1., 1., 0., 0., 0., 1., 1., 1., 0., 1., 1., 1., 1.,\n",
            "       0., 0., 0., 1., 1., 1., 0., 1., 1., 0., 0., 1., 0., 0., 0., 0., 1.,\n",
            "       1., 1., 0., 1., 1., 0., 0., 1., 0., 0., 1., 1., 1., 0., 1., 0., 0.,\n",
            "       0., 1., 1., 1., 1., 1., 1., 0., 1., 0., 0., 1., 0., 1., 1.],\n",
            "      dtype=float32))\n"
          ]
        }
      ]
    },
    {
      "cell_type": "code",
      "source": [
        "for batch in test_generator:\n",
        "     print(batch)\n",
        "     break;"
      ],
      "metadata": {
        "colab": {
          "base_uri": "https://localhost:8080/"
        },
        "id": "s46Xetc_-DCY",
        "outputId": "368338e0-43cf-4cca-bf4b-e38387fe3b6b"
      },
      "execution_count": null,
      "outputs": [
        {
          "output_type": "stream",
          "name": "stdout",
          "text": [
            "[[[[0.0627451  0.07058824 0.13725491]\n",
            "   [0.08235294 0.09411766 0.15294118]\n",
            "   [0.1137255  0.12156864 0.18823531]\n",
            "   ...\n",
            "   [1.         1.         1.        ]\n",
            "   [1.         1.         1.        ]\n",
            "   [1.         1.         1.        ]]\n",
            "\n",
            "  [[0.0627451  0.07450981 0.1254902 ]\n",
            "   [0.06666667 0.07450981 0.14117648]\n",
            "   [0.09411766 0.10196079 0.16470589]\n",
            "   ...\n",
            "   [1.         1.         1.        ]\n",
            "   [1.         1.         1.        ]\n",
            "   [1.         1.         1.        ]]\n",
            "\n",
            "  [[0.07058824 0.09411766 0.12156864]\n",
            "   [0.05882353 0.06666667 0.12941177]\n",
            "   [0.07450981 0.08627451 0.14509805]\n",
            "   ...\n",
            "   [1.         1.         1.        ]\n",
            "   [1.         1.         1.        ]\n",
            "   [1.         1.         1.        ]]\n",
            "\n",
            "  ...\n",
            "\n",
            "  [[0.14901961 0.08235294 0.06666667]\n",
            "   [0.14901961 0.07450981 0.0627451 ]\n",
            "   [0.14509805 0.07058824 0.05882353]\n",
            "   ...\n",
            "   [1.         1.         1.        ]\n",
            "   [1.         1.         1.        ]\n",
            "   [1.         1.         1.        ]]\n",
            "\n",
            "  [[0.14901961 0.07450981 0.0627451 ]\n",
            "   [0.14509805 0.07058824 0.05882353]\n",
            "   [0.14117648 0.07058824 0.05490196]\n",
            "   ...\n",
            "   [1.         1.         1.        ]\n",
            "   [1.         1.         1.        ]\n",
            "   [1.         1.         1.        ]]\n",
            "\n",
            "  [[0.14509805 0.07058824 0.05882353]\n",
            "   [0.14117648 0.06666667 0.05490196]\n",
            "   [0.14117648 0.06666667 0.05490196]\n",
            "   ...\n",
            "   [1.         1.         1.        ]\n",
            "   [1.         1.         1.        ]\n",
            "   [1.         1.         1.        ]]]]\n"
          ]
        }
      ]
    },
    {
      "cell_type": "code",
      "source": [
        "from keras.layers import MaxPool2D\n",
        "model = Sequential()\n",
        "\n",
        "model.add(Conv2D(32, (3, 3), activation='relu', input_shape=image_shape))\n",
        "model.add(BatchNormalization())\n",
        "model.add(MaxPooling2D(pool_size=(2, 2)))\n",
        "model.add(Dropout(0.25))\n",
        "\n",
        "model.add(Conv2D(64, (3, 3), activation='relu'))\n",
        "model.add(BatchNormalization())\n",
        "model.add(MaxPooling2D(pool_size=(2, 2)))\n",
        "model.add(Dropout(0.25))\n",
        "\n",
        "model.add(Conv2D(128, (3, 3), activation='relu'))\n",
        "model.add(BatchNormalization())\n",
        "model.add(MaxPooling2D(pool_size=(2, 2)))\n",
        "model.add(Dropout(0.25))\n",
        "\n",
        "model.add(Flatten())\n",
        "model.add(Dense(512, activation='relu'))\n",
        "model.add(BatchNormalization())\n",
        "model.add(Dropout(0.5))\n",
        "model.add(Dense(units=1, activation=\"sigmoid\"))"
      ],
      "metadata": {
        "id": "0u4II-991Pbz"
      },
      "execution_count": null,
      "outputs": []
    },
    {
      "cell_type": "code",
      "source": [
        "model.summary()"
      ],
      "metadata": {
        "colab": {
          "base_uri": "https://localhost:8080/"
        },
        "id": "0Qi-ZaWB_5Fo",
        "outputId": "4b086147-4b43-4ca6-c8b0-8963c51d57d7"
      },
      "execution_count": null,
      "outputs": [
        {
          "output_type": "stream",
          "name": "stdout",
          "text": [
            "Model: \"sequential\"\n",
            "_________________________________________________________________\n",
            " Layer (type)                Output Shape              Param #   \n",
            "=================================================================\n",
            " conv2d (Conv2D)             (None, 222, 222, 32)      896       \n",
            "                                                                 \n",
            " batch_normalization (BatchN  (None, 222, 222, 32)     128       \n",
            " ormalization)                                                   \n",
            "                                                                 \n",
            " max_pooling2d (MaxPooling2D  (None, 111, 111, 32)     0         \n",
            " )                                                               \n",
            "                                                                 \n",
            " dropout (Dropout)           (None, 111, 111, 32)      0         \n",
            "                                                                 \n",
            " conv2d_1 (Conv2D)           (None, 109, 109, 64)      18496     \n",
            "                                                                 \n",
            " batch_normalization_1 (Batc  (None, 109, 109, 64)     256       \n",
            " hNormalization)                                                 \n",
            "                                                                 \n",
            " max_pooling2d_1 (MaxPooling  (None, 54, 54, 64)       0         \n",
            " 2D)                                                             \n",
            "                                                                 \n",
            " dropout_1 (Dropout)         (None, 54, 54, 64)        0         \n",
            "                                                                 \n",
            " conv2d_2 (Conv2D)           (None, 52, 52, 128)       73856     \n",
            "                                                                 \n",
            " batch_normalization_2 (Batc  (None, 52, 52, 128)      512       \n",
            " hNormalization)                                                 \n",
            "                                                                 \n",
            " max_pooling2d_2 (MaxPooling  (None, 26, 26, 128)      0         \n",
            " 2D)                                                             \n",
            "                                                                 \n",
            " dropout_2 (Dropout)         (None, 26, 26, 128)       0         \n",
            "                                                                 \n",
            " flatten (Flatten)           (None, 86528)             0         \n",
            "                                                                 \n",
            " dense (Dense)               (None, 512)               44302848  \n",
            "                                                                 \n",
            " batch_normalization_3 (Batc  (None, 512)              2048      \n",
            " hNormalization)                                                 \n",
            "                                                                 \n",
            " dropout_3 (Dropout)         (None, 512)               0         \n",
            "                                                                 \n",
            " dense_1 (Dense)             (None, 1)                 513       \n",
            "                                                                 \n",
            "=================================================================\n",
            "Total params: 44,399,553\n",
            "Trainable params: 44,398,081\n",
            "Non-trainable params: 1,472\n",
            "_________________________________________________________________\n"
          ]
        }
      ]
    },
    {
      "cell_type": "code",
      "source": [
        "model.compile(optimizer='adam', loss='binary_crossentropy', metrics=['accuracy'])"
      ],
      "metadata": {
        "id": "ZC-qw5xF_9wk"
      },
      "execution_count": null,
      "outputs": []
    },
    {
      "cell_type": "code",
      "source": [
        "results = model.fit(train_generator,epochs=5,\n",
        "                              validation_data=val_generator)"
      ],
      "metadata": {
        "colab": {
          "base_uri": "https://localhost:8080/"
        },
        "id": "RjcBXmD5AC38",
        "outputId": "66f6d5c9-08c7-4531-df55-0eab56755ded"
      },
      "execution_count": null,
      "outputs": [
        {
          "output_type": "stream",
          "name": "stdout",
          "text": [
            "Epoch 1/5\n",
            "175/175 [==============================] - 373s 2s/step - loss: 0.7952 - accuracy: 0.6072 - val_loss: 2.0928 - val_accuracy: 0.5000\n",
            "Epoch 2/5\n",
            "175/175 [==============================] - 362s 2s/step - loss: 0.6428 - accuracy: 0.6644 - val_loss: 1.2421 - val_accuracy: 0.5057\n",
            "Epoch 3/5\n",
            "175/175 [==============================] - 363s 2s/step - loss: 0.5914 - accuracy: 0.6925 - val_loss: 0.7853 - val_accuracy: 0.5599\n",
            "Epoch 4/5\n",
            "175/175 [==============================] - 363s 2s/step - loss: 0.5576 - accuracy: 0.7139 - val_loss: 0.5968 - val_accuracy: 0.6695\n",
            "Epoch 5/5\n",
            "175/175 [==============================] - 353s 2s/step - loss: 0.5364 - accuracy: 0.7323 - val_loss: 0.5510 - val_accuracy: 0.7185\n"
          ]
        }
      ]
    },
    {
      "cell_type": "code",
      "source": [
        "import matplotlib.pyplot as plt\n",
        "plt.plot(results.history['accuracy'])\n",
        "plt.plot(results.history['val_accuracy'])\n",
        "plt.title('cat/dog model accuracy ')\n",
        "plt.ylabel('accuracy')\n",
        "plt.xlabel('epoch')\n",
        "plt.legend(['train', 'test'], loc='upper left')\n",
        "plt.show()"
      ],
      "metadata": {
        "id": "-GCkgVDbAGbZ",
        "colab": {
          "base_uri": "https://localhost:8080/",
          "height": 295
        },
        "outputId": "2d8ea0d3-c0c1-460a-ab9d-9374928f1dca"
      },
      "execution_count": null,
      "outputs": [
        {
          "output_type": "display_data",
          "data": {
            "text/plain": [
              "<Figure size 432x288 with 1 Axes>"
            ],
            "image/png": "[encoded data removed]"
          },
          "metadata": {
            "needs_background": "light"
          }
        }
      ]
    },
    {
      "cell_type": "code",
      "source": [
        "import matplotlib.pyplot as plt\n",
        "plt.plot(results.history['loss'])\n",
        "plt.plot(results.history['val_loss'])\n",
        "plt.title('Cat/Dog model loss ')\n",
        "plt.ylabel('loss')\n",
        "plt.xlabel('epoch')\n",
        "plt.legend(['train', 'test'], loc='upper left')\n",
        "plt.show()"
      ],
      "metadata": {
        "id": "mWdkg2FDAQNy",
        "colab": {
          "base_uri": "https://localhost:8080/",
          "height": 295
        },
        "outputId": "fdd042be-ac5e-458b-8a71-24817982bbda"
      },
      "execution_count": null,
      "outputs": [
        {
          "output_type": "display_data",
          "data": {
            "text/plain": [
              "<Figure size 432x288 with 1 Axes>"
            ],
            "image/png": "[encoded data removed]"
          },
          "metadata": {
            "needs_background": "light"
          }
        }
      ]
    },
    {
      "cell_type": "code",
      "source": [
        "y_predx=model.predict(val_generator)\n",
        "y_true = val_generator.classes"
      ],
      "metadata": {
        "id": "A8jDjwp9AufY"
      },
      "execution_count": null,
      "outputs": []
    },
    {
      "cell_type": "code",
      "source": [
        "class_names=list(val_generator.class_indices.values())\n",
        "class_names"
      ],
      "metadata": {
        "colab": {
          "base_uri": "https://localhost:8080/"
        },
        "id": "CN6d45U2SMDR",
        "outputId": "e2035bb4-3ab1-4405-84e6-eb78af715bf9"
      },
      "execution_count": null,
      "outputs": [
        {
          "output_type": "execute_result",
          "data": {
            "text/plain": [
              "[0, 1]"
            ]
          },
          "metadata": {},
          "execution_count": 52
        }
      ]
    },
    {
      "cell_type": "code",
      "source": [
        "pred=np.where(y_predx>0.5,1,0)"
      ],
      "metadata": {
        "id": "ehjRgQ1FP995"
      },
      "execution_count": null,
      "outputs": []
    },
    {
      "cell_type": "code",
      "source": [
        "len(y_pred),len(y_true)"
      ],
      "metadata": {
        "colab": {
          "base_uri": "https://localhost:8080/"
        },
        "id": "aze6rtjaRaxU",
        "outputId": "570215ef-fcee-486a-a86e-ad5d15288dca"
      },
      "execution_count": null,
      "outputs": [
        {
          "output_type": "execute_result",
          "data": {
            "text/plain": [
              "(7500, 7500)"
            ]
          },
          "metadata": {},
          "execution_count": 42
        }
      ]
    },
    {
      "cell_type": "code",
      "source": [
        "np.unique(y_pred,return_counts=True)"
      ],
      "metadata": {
        "colab": {
          "base_uri": "https://localhost:8080/"
        },
        "id": "yO5CGnPANwOY",
        "outputId": "383d6780-15b7-4b10-b5d1-c6c5595ae277"
      },
      "execution_count": null,
      "outputs": [
        {
          "output_type": "execute_result",
          "data": {
            "text/plain": [
              "(array([0, 1]), array([3525, 3975]))"
            ]
          },
          "metadata": {},
          "execution_count": 43
        }
      ]
    },
    {
      "cell_type": "code",
      "source": [
        "# y_pred=np.argmax(y_pred, axis=1)\n",
        "from sklearn.metrics import classification_report,accuracy_score,f1_score\n",
        "print(accuracy_score(y_true,y_pred))\n",
        "print(f1_score(y_true,y_pred,average='macro'))"
      ],
      "metadata": {
        "id": "T-4XhrMaAvdl",
        "colab": {
          "base_uri": "https://localhost:8080/"
        },
        "outputId": "694cb00b-4ac5-40eb-b421-42817078ff93"
      },
      "execution_count": null,
      "outputs": [
        {
          "output_type": "stream",
          "name": "stdout",
          "text": [
            "0.5014666666666666\n",
            "0.5010175824909084\n"
          ]
        }
      ]
    },
    {
      "cell_type": "code",
      "source": [
        "print(classification_report(y_true,y_pred,labels=[0,1]))\n"
      ],
      "metadata": {
        "id": "1kQgf-DRA044",
        "colab": {
          "base_uri": "https://localhost:8080/"
        },
        "outputId": "e955c3b1-f81d-4016-94e9-e3bb7cdde1d8"
      },
      "execution_count": null,
      "outputs": [
        {
          "output_type": "stream",
          "name": "stdout",
          "text": [
            "              precision    recall  f1-score   support\n",
            "\n",
            "           0       0.50      0.47      0.49      3750\n",
            "           1       0.50      0.53      0.52      3750\n",
            "\n",
            "    accuracy                           0.50      7500\n",
            "   macro avg       0.50      0.50      0.50      7500\n",
            "weighted avg       0.50      0.50      0.50      7500\n",
            "\n"
          ]
        }
      ]
    },
    {
      "cell_type": "code",
      "source": [
        "from sklearn.metrics import confusion_matrix, ConfusionMatrixDisplay\n",
        "cm = confusion_matrix(y_true, y_pred, labels=list(class_names))\n",
        "disp = ConfusionMatrixDisplay(confusion_matrix=cm,\n",
        "                               display_labels=list(class_names))\n",
        "disp.plot(cmap='Blues')\n",
        "plt.show()"
      ],
      "metadata": {
        "id": "2DZ6FzEOBYEL",
        "colab": {
          "base_uri": "https://localhost:8080/",
          "height": 279
        },
        "outputId": "9c4aef72-3388-4b77-9434-b221c0475619"
      },
      "execution_count": null,
      "outputs": [
        {
          "output_type": "display_data",
          "data": {
            "text/plain": [
              "<Figure size 432x288 with 2 Axes>"
            ],
            "image/png": "[encoded data removed]"
          },
          "metadata": {
            "needs_background": "light"
          }
        }
      ]
    },
    {
      "cell_type": "code",
      "source": [],
      "metadata": {
        "id": "QQRFUVD4R6Bj"
      },
      "execution_count": 1,
      "outputs": []
    },
    {
      "cell_type": "code",
      "source": [],
      "metadata": {
        "id": "gbpCsBmjqIZ3"
      },
      "execution_count": null,
      "outputs": []
    }
  ]
}